{
 "cells": [
  {
   "cell_type": "raw",
   "metadata": {},
   "source": [
    "Muhammad Sarmad Sajjad\n",
    "Student id: 21031175"
   ]
  },
  {
   "cell_type": "code",
   "execution_count": 1,
   "metadata": {},
   "outputs": [],
   "source": [
    "import pandas as pd\n",
    "import matplotlib.pyplot as plt\n",
    "from scipy.optimize import curve_fit\n",
    "import numpy as np\n",
    "import sklearn.cluster as cluster\n",
    "from scipy import stats"
   ]
  },
  {
   "cell_type": "code",
   "execution_count": 2,
   "metadata": {},
   "outputs": [],
   "source": [
    "def read(filename):\n",
    "    '''\n",
    "    Returns two dataframes after reading the file given by filename\n",
    "    '''\n",
    "    df = pd.read_excel(filename,skiprows=3)\n",
    "    labels = ['Country Code', 'Indicator Name','Indicator Code']\n",
    "    years = df.set_index('Country Name').drop(labels=labels,axis=1)\n",
    "    countries = years.transpose()\n",
    "    return years, countries"
   ]
  },
  {
   "cell_type": "code",
   "execution_count": 3,
   "metadata": {},
   "outputs": [],
   "source": [
    "def rm_out(df_in):\n",
    "    '''\n",
    "    Removes outliers from the data\n",
    "    '''\n",
    "    return  df_in[(np.abs(stats.zscore(df_in)) < 3).all(axis=1)]"
   ]
  },
  {
   "cell_type": "code",
   "execution_count": 4,
   "metadata": {},
   "outputs": [],
   "source": [
    "def normalize(a):\n",
    "    '''\n",
    "    normalizes the data\n",
    "    '''\n",
    "    n=(a - a.min()) / (a.max() - a.min())\n",
    "    return (n)"
   ]
  },
  {
   "cell_type": "code",
   "execution_count": 5,
   "metadata": {},
   "outputs": [],
   "source": [
    "def err_ranges(x, func, param, sigma):\n",
    "    \"\"\"\n",
    "    Calculates the upper and lower limits for the function, parameters and\n",
    "    sigmas for single value or array x. Functions values are calculated for \n",
    "    all combinations of +/- sigma and the minimum and maximum is determined.\n",
    "    Can be used for all number of parameters and sigmas >=1.\n",
    "    \n",
    "    This routine can be used in assignment programs.\n",
    "    \"\"\"\n",
    "\n",
    "    import itertools as iter\n",
    "    \n",
    "    # initiate arrays for lower and upper limits\n",
    "    lower = func(x, *param)\n",
    "    upper = lower\n",
    "    \n",
    "    uplow = []   # list to hold upper and lower limits for parameters\n",
    "    for p,s in zip(param, sigma):\n",
    "        pmin = p - s\n",
    "        pmax = p + s\n",
    "        uplow.append((pmin, pmax))\n",
    "        \n",
    "    pmix = list(iter.product(*uplow))\n",
    "    \n",
    "    for p in pmix:\n",
    "        y = func(x, *p)\n",
    "        lower = np.minimum(lower, y)\n",
    "        upper = np.maximum(upper, y)\n",
    "        \n",
    "    return lower, upper   "
   ]
  },
  {
   "cell_type": "code",
   "execution_count": 6,
   "metadata": {},
   "outputs": [],
   "source": [
    "def make_clusters(x,y,n_clusters=3,column_names=[0,1]):\n",
    "    '''\n",
    "    Makes clusters of the data and plots the clusters with different colors\n",
    "    '''\n",
    "    df = rm_out(pd.concat([x, y], axis=1,keys=column_names).dropna())\n",
    "    \n",
    "    kmeans = cluster.KMeans(n_clusters=n_clusters)\n",
    "    \n",
    "    x = df[column_names[0]].values.reshape(-1, 1)\n",
    "    y = df[column_names[1]].values\n",
    "    \n",
    "    norm_x = normalize(x)\n",
    "    norm_y = normalize(y)\n",
    "    \n",
    "    kmeans.fit(norm_x,norm_y)\n",
    "    cen = kmeans.cluster_centers_\n",
    "    labels = kmeans.labels_\n",
    "    \n",
    "    colors = [\"blue\", \"red\", \"green\",\"orange\"]\n",
    "    for l in range(len(cen)):\n",
    "        plt.plot(x[labels==l], y[labels==l], \"+\", color=colors[l])\n",
    "    plt.xlabel(column_names[0])\n",
    "    plt.ylabel(column_names[1])    \n",
    "    plt.show()"
   ]
  },
  {
   "cell_type": "code",
   "execution_count": null,
   "metadata": {},
   "outputs": [],
   "source": []
  },
  {
   "cell_type": "code",
   "execution_count": 7,
   "metadata": {},
   "outputs": [],
   "source": [
    "#Reading data\n",
    "co1,co2 = read('API_EN.ATM.GHGT.KT.CE_DS2_en_excel_v2_4026021.xls')"
   ]
  },
  {
   "cell_type": "code",
   "execution_count": 8,
   "metadata": {
    "scrolled": false
   },
   "outputs": [],
   "source": [
    "gdp1,gdp2 = read('API_NY.GDP.PCAP.CD_DS2_en_excel_v2_4021477.xls')"
   ]
  },
  {
   "cell_type": "code",
   "execution_count": 9,
   "metadata": {
    "scrolled": true
   },
   "outputs": [
    {
     "data": {
      "image/png": "[encoded data removed]",
      "text/plain": [
       "<Figure size 432x288 with 1 Axes>"
      ]
     },
     "metadata": {
      "needs_background": "light"
     },
     "output_type": "display_data"
    }
   ],
   "source": [
    "make_clusters(gdp2.mean(), co2.mean(),n_clusters=2,column_names=['GDP per capita', 'Greenhouse gases'])"
   ]
  },
  {
   "cell_type": "markdown",
   "metadata": {},
   "source": [
    "The above plot shows clusterings of Greenhouse gases and GDP per capita data. The clusters are mainly made wrt GDP per capita. It is evident that countries with low GDP per capita shown in blue release more greenhouse gases than countries with higher GDP per capita shown in red. "
   ]
  },
  {
   "cell_type": "code",
   "execution_count": 10,
   "metadata": {
    "scrolled": false
   },
   "outputs": [],
   "source": [
    "forest1,forest2 = read('API_AG.LND.FRST.ZS_DS2_en_excel_v2_4020478.xls')"
   ]
  },
  {
   "cell_type": "code",
   "execution_count": 11,
   "metadata": {
    "scrolled": true
   },
   "outputs": [
    {
     "data": {
      "image/png": "[encoded data removed]",
      "text/plain": [
       "<Figure size 432x288 with 1 Axes>"
      ]
     },
     "metadata": {
      "needs_background": "light"
     },
     "output_type": "display_data"
    }
   ],
   "source": [
    "make_clusters(forest2.mean(), co2.mean(),column_names=['Forest area', 'Greenhouse gases'])"
   ]
  },
  {
   "cell_type": "markdown",
   "metadata": {},
   "source": [
    "The above graph shows clusters made of forest area and greenhouse gases. We can see that the clusters are separated by defined boundaries. First cluster is from 0%-20% next is from 20%-50% and the last from 50%-100%. One thing to note is that the blue cluster was the one that had the most greenhouse gas emissions."
   ]
  },
  {
   "cell_type": "code",
   "execution_count": null,
   "metadata": {},
   "outputs": [],
   "source": []
  },
  {
   "cell_type": "code",
   "execution_count": 12,
   "metadata": {},
   "outputs": [],
   "source": [
    "def quadratic(t, x0, h,x1, b):\n",
    "    \"\"\"Calculates the logistic function with scale factor n0 and growth rate g\"\"\"\n",
    "    \n",
    "    f = x0 * np.power(t - h,2) + x1*t + b\n",
    "    \n",
    "    return f"
   ]
  },
  {
   "cell_type": "code",
   "execution_count": 13,
   "metadata": {},
   "outputs": [],
   "source": [
    "def rms(orig, pred):\n",
    "    rms = np.sqrt(np.mean((orig-pred)**2))\n",
    "    return rms"
   ]
  },
  {
   "cell_type": "code",
   "execution_count": 14,
   "metadata": {},
   "outputs": [],
   "source": [
    "def fit(func, x_values,y_values,xlabel = None,ylabel=None,time=10):\n",
    "    '''\n",
    "    optimizes the function given and plots predicted and original data\n",
    "    return rmse of the predictions\n",
    "    '''\n",
    "    popt, pcov = curve_fit(func, x_values, y_values,maxfev = 5000)\n",
    "    y_pred = func(np.arange(x_values[0],x_values[-1]+time),*popt)\n",
    "    plt.plot(np.arange(x_values[0],x_values[-1]+time),y_pred)\n",
    "    plt.plot(x_values,y_values)\n",
    "\n",
    "    plt.xlabel(xlabel)\n",
    "    plt.ylabel(ylabel)\n",
    "    plt.legend(['Predicted', 'Original'])\n",
    "    \n",
    "    plt.show()\n",
    "    return rms(y_values,func(x_values,*popt))"
   ]
  },
  {
   "cell_type": "code",
   "execution_count": 15,
   "metadata": {
    "scrolled": false
   },
   "outputs": [],
   "source": [
    "eng1,eng2 = read('API_EG.USE.PCAP.KG.OE_DS2_en_excel_v2_4027677.xls')"
   ]
  },
  {
   "cell_type": "code",
   "execution_count": 16,
   "metadata": {},
   "outputs": [],
   "source": [
    "x_values = np.array([int(x) for x in  co2['United States'].dropna().index])\n",
    "y_values = co2['United States'].dropna().values"
   ]
  },
  {
   "cell_type": "code",
   "execution_count": 17,
   "metadata": {
    "scrolled": false
   },
   "outputs": [
    {
     "data": {
      "image/png": "[encoded data removed]",
      "text/plain": [
       "<Figure size 432x288 with 1 Axes>"
      ]
     },
     "metadata": {
      "needs_background": "light"
     },
     "output_type": "display_data"
    },
    {
     "name": "stdout",
     "output_type": "stream",
     "text": [
      "RMSE = 152253.8131718939\n"
     ]
    }
   ],
   "source": [
    "rmse = fit(quadratic,x_values,y_values,xlabel='Year',ylabel='Greenhouse Gas emissions')\n",
    "print(f'RMSE = {rmse}')"
   ]
  },
  {
   "cell_type": "code",
   "execution_count": 18,
   "metadata": {
    "scrolled": false
   },
   "outputs": [],
   "source": [
    "x_values = np.array([int(x) for x in  eng2['United States'].dropna().index])\n",
    "y_values = eng2['United States'].dropna().values"
   ]
  },
  {
   "cell_type": "code",
   "execution_count": 19,
   "metadata": {},
   "outputs": [
    {
     "data": {
      "image/png": "[encoded data removed]",
      "text/plain": [
       "<Figure size 432x288 with 1 Axes>"
      ]
     },
     "metadata": {
      "needs_background": "light"
     },
     "output_type": "display_data"
    },
    {
     "name": "stdout",
     "output_type": "stream",
     "text": [
      "RMSE = 368.04571956658975\n"
     ]
    }
   ],
   "source": [
    "rmse = fit(quadratic,x_values,y_values,xlabel='Year',ylabel='Energy Use',time=10)\n",
    "print(f'RMSE = {rmse}')"
   ]
  },
  {
   "cell_type": "code",
   "execution_count": null,
   "metadata": {},
   "outputs": [],
   "source": []
  }
 ],
 "metadata": {
  "kernelspec": {
   "display_name": "Python 3 (ipykernel)",
   "language": "python",
   "name": "python3"
  },
  "language_info": {
   "codemirror_mode": {
    "name": "ipython",
    "version": 3
   },
   "file_extension": ".py",
   "mimetype": "text/x-python",
   "name": "python",
   "nbconvert_exporter": "python",
   "pygments_lexer": "ipython3",
   "version": "3.9.7"
  }
 },
 "nbformat": 4,
 "nbformat_minor": 4
}
